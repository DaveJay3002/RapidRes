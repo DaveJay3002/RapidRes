{
 "cells": [
  {
   "cell_type": "code",
   "execution_count": 13,
   "metadata": {},
   "outputs": [],
   "source": [
    "import pandas as pd\n",
    "import json\n",
    "\n",
    "station_names = pd.read_csv(r\"C:\\Users\\Jay\\Desktop\\IRCTC API\\Data\\StationNames\\INDIAN RAILWAY STATION LIST.csv\")\n",
    "\n",
    "with open(r\"C:\\Users\\Jay\\Desktop\\IRCTC API\\Data\\IRCTCTrainInfo\\traininfo.json\", 'r') as file:\n",
    "    train_data = json.load(file)"
   ]
  },
  {
   "cell_type": "code",
   "execution_count": 14,
   "metadata": {},
   "outputs": [
    {
     "data": {
      "text/html": [
       "<div>\n",
       "<style scoped>\n",
       "    .dataframe tbody tr th:only-of-type {\n",
       "        vertical-align: middle;\n",
       "    }\n",
       "\n",
       "    .dataframe tbody tr th {\n",
       "        vertical-align: top;\n",
       "    }\n",
       "\n",
       "    .dataframe thead th {\n",
       "        text-align: right;\n",
       "    }\n",
       "</style>\n",
       "<table border=\"1\" class=\"dataframe\">\n",
       "  <thead>\n",
       "    <tr style=\"text-align: right;\">\n",
       "      <th></th>\n",
       "      <th>Unnamed: 0</th>\n",
       "      <th>CODE</th>\n",
       "      <th>STATION NAME</th>\n",
       "      <th>RAILWAY ZONE</th>\n",
       "      <th>STATION ADDRESS</th>\n",
       "    </tr>\n",
       "  </thead>\n",
       "  <tbody>\n",
       "    <tr>\n",
       "      <th>0</th>\n",
       "      <td>0</td>\n",
       "      <td>AA</td>\n",
       "      <td>ATARIA</td>\n",
       "      <td>NER</td>\n",
       "      <td>Sitapur Rd, Heerpur, Uttar Pradesh 261..</td>\n",
       "    </tr>\n",
       "    <tr>\n",
       "      <th>1</th>\n",
       "      <td>1</td>\n",
       "      <td>AABH</td>\n",
       "      <td>AMBIKA BHAWANI HALT</td>\n",
       "      <td>ECR</td>\n",
       "      <td>Chapra-Patna Highway, Rampur Ami, Biha..</td>\n",
       "    </tr>\n",
       "    <tr>\n",
       "      <th>2</th>\n",
       "      <td>2</td>\n",
       "      <td>AADR</td>\n",
       "      <td>AMBANDAURA</td>\n",
       "      <td>NR</td>\n",
       "      <td>Una, Himachal Pradesh, India</td>\n",
       "    </tr>\n",
       "    <tr>\n",
       "      <th>3</th>\n",
       "      <td>3</td>\n",
       "      <td>AAG</td>\n",
       "      <td>ANGAR</td>\n",
       "      <td>CR</td>\n",
       "      <td>Solapur, Maharashtra, India</td>\n",
       "    </tr>\n",
       "    <tr>\n",
       "      <th>4</th>\n",
       "      <td>4</td>\n",
       "      <td>AAGH</td>\n",
       "      <td>ANTAGARH</td>\n",
       "      <td>SECR</td>\n",
       "      <td>Antagarh, PIN - 494665, Dist. - Kanker..</td>\n",
       "    </tr>\n",
       "  </tbody>\n",
       "</table>\n",
       "</div>"
      ],
      "text/plain": [
       "   Unnamed: 0  CODE         STATION NAME RAILWAY ZONE  \\\n",
       "0           0    AA               ATARIA          NER   \n",
       "1           1  AABH  AMBIKA BHAWANI HALT          ECR   \n",
       "2           2  AADR           AMBANDAURA           NR   \n",
       "3           3   AAG                ANGAR           CR   \n",
       "4           4  AAGH             ANTAGARH         SECR   \n",
       "\n",
       "                            STATION ADDRESS  \n",
       "0  Sitapur Rd, Heerpur, Uttar Pradesh 261..  \n",
       "1  Chapra-Patna Highway, Rampur Ami, Biha..  \n",
       "2              Una, Himachal Pradesh, India  \n",
       "3               Solapur, Maharashtra, India  \n",
       "4  Antagarh, PIN - 494665, Dist. - Kanker..  "
      ]
     },
     "execution_count": 14,
     "metadata": {},
     "output_type": "execute_result"
    }
   ],
   "source": [
    "station_names.head()"
   ]
  },
  {
   "cell_type": "code",
   "execution_count": 15,
   "metadata": {},
   "outputs": [],
   "source": [
    "station_code_to_names = dict(zip(station_names['CODE'], station_names[\"STATION NAME\"]))"
   ]
  },
  {
   "cell_type": "code",
   "execution_count": 16,
   "metadata": {},
   "outputs": [],
   "source": [
    "for train in train_data:\n",
    "    # Check if 'stationList' key exists in the train entry\n",
    "    if 'stationList' in train:\n",
    "        # Parse stationList string as JSON to work with it as a Python list\n",
    "        station_list = json.loads(train['stationList'].replace(\"'\", \"\\\"\"))  # Convert single quotes to double for valid JSON\n",
    "\n",
    "        # Replace each station's code with its corresponding name\n",
    "        for station in station_list:\n",
    "            station_code = station['stationCode']\n",
    "            # Check if code exists in mapping dictionary\n",
    "            if station_code in station_code_to_names:\n",
    "                station['stationName'] = station_code_to_names[station_code]\n",
    "\n",
    "        # Convert station list back to JSON string format if necessary\n",
    "        train['stationList'] = json.dumps(station_list)"
   ]
  },
  {
   "cell_type": "code",
   "execution_count": 17,
   "metadata": {},
   "outputs": [],
   "source": [
    "with open(r\"C:\\Users\\Jay\\Desktop\\IRCTC API\\Data\\IRCTCTrainInfo\\updated_traininfo.json\", 'w') as file:\n",
    "    json.dump(train_data, file, indent=4)"
   ]
  },
  {
   "cell_type": "code",
   "execution_count": null,
   "metadata": {},
   "outputs": [],
   "source": []
  }
 ],
 "metadata": {
  "kernelspec": {
   "display_name": "Python 3",
   "language": "python",
   "name": "python3"
  },
  "language_info": {
   "codemirror_mode": {
    "name": "ipython",
    "version": 3
   },
   "file_extension": ".py",
   "mimetype": "text/x-python",
   "name": "python",
   "nbconvert_exporter": "python",
   "pygments_lexer": "ipython3",
   "version": "3.11.9"
  }
 },
 "nbformat": 4,
 "nbformat_minor": 2
}
